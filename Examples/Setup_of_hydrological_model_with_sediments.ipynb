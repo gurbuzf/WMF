{
 "cells": [
  {
   "cell_type": "markdown",
   "metadata": {
    "ExecuteTime": {
     "end_time": "2020-10-27T16:30:04.739526Z",
     "start_time": "2020-10-27T16:30:04.735978Z"
    }
   },
   "source": [
    "Guía Uso modelo SHIA por medio del paquete WMF. Escala horaria o menor"
   ]
  },
  {
   "cell_type": "markdown",
   "metadata": {
    "heading_collapsed": true
   },
   "source": [
    "# Insumos"
   ]
  },
  {
   "cell_type": "markdown",
   "metadata": {
    "heading_collapsed": true,
    "hidden": true
   },
   "source": [
    "## Paquetes a importar"
   ]
  },
  {
   "cell_type": "code",
   "execution_count": 1,
   "metadata": {
    "ExecuteTime": {
     "end_time": "2020-10-27T16:39:37.910698Z",
     "start_time": "2020-10-27T16:39:37.189824Z"
    },
    "hidden": true
   },
   "outputs": [],
   "source": [
    "%matplotlib inline \n",
    "import pylab as pl \n",
    "from wmf import wmf \n",
    "import numpy as np \n",
    "import pandas as pd \n",
    "import matplotlib.pyplot as pl\n",
    "import warnings\n",
    "import os\n",
    "import datetime\n",
    "import netCDF4\n",
    "import glob\n",
    "warnings.filterwarnings('ignore')"
   ]
  },
  {
   "cell_type": "markdown",
   "metadata": {
    "heading_collapsed": true,
    "hidden": true
   },
   "source": [
    "## Datos necesarios"
   ]
  },
  {
   "cell_type": "markdown",
   "metadata": {
    "hidden": true
   },
   "source": [
    "* Modelo de Elevación digital\n",
    "* Mapa de Direcciones (en formato qgis)\n",
    "* Coordenadas x,y del punto de trazado de cuenca\n",
    "* Mapa de conductividad hidráulica Ks (mm/h)\n",
    "* Mapa de almacenamiento máximo capilar Hu\n",
    "* Mapa de almacenamiento máximo gravitacional Hg\n",
    "* Mapa de coeficiente de Manning\n",
    "* Serie de caudales en el punto de trazado de la cuenca y en la resolución temporal de la simulación (dt)\n",
    "* Información de lluvia dentro de la cuenca en la misma resolución temporal de la simulación"
   ]
  },
  {
   "cell_type": "markdown",
   "metadata": {
    "heading_collapsed": true
   },
   "source": [
    "# Procesamiento de información de entrada al modelo"
   ]
  },
  {
   "cell_type": "markdown",
   "metadata": {
    "heading_collapsed": true,
    "hidden": true
   },
   "source": [
    "## Cuenca, DEM y mapa de direcciones\n",
    "\n",
    "Partiendo del DEM, del mapa de direcciones y del punto de trazado se ejecutan los siguientes comandos:\n",
    "\n",
    "DEM=wmf.read_map_raster(rutaDEM, isDEMorDIR=True, dxp=dxp, noDataP=noDataP)[0]\n",
    "DIR=wmf.read_map_raster(rutaDIR, isDEMorDIR=True, dxp=dxp, noDataP=noDataP,isDIR = True)[0]\n",
    "\n",
    "st = wmf.Stream(x, y, DEM, DIR)\n",
    "cu = wmf.SimuBasin(x, y, DEM, DIR, stream = st, umbral = umbral_red, noData=noDataP, dt=deltaT)\n",
    "\n",
    "* El umbral se define como el número de pixeles acumulados que drenan a una celda para que se considere dentro de la red de drenaje\n",
    "* dt en segundos y dxp en metros\n",
    "\n",
    "\n",
    "En caso de ya tener un nc de la cuenca se llama así:"
   ]
  },
  {
   "cell_type": "code",
   "execution_count": 2,
   "metadata": {
    "ExecuteTime": {
     "end_time": "2020-10-27T16:40:28.427797Z",
     "start_time": "2020-10-27T16:40:28.258031Z"
    },
    "hidden": true
   },
   "outputs": [],
   "source": [
    "cu = wmf.SimuBasin(rute = '/media/nicolas/Home/Jupyter/sedimentos/porce/datos/cuencas/porce_150m.nc')"
   ]
  },
  {
   "cell_type": "markdown",
   "metadata": {
    "hidden": true
   },
   "source": [
    "## Parámetros de entrada requeridos para la simulación del transporte vertical"
   ]
  },
  {
   "cell_type": "markdown",
   "metadata": {
    "heading_collapsed": true,
    "hidden": true
   },
   "source": [
    "### Cálculo de la evaportranspiración (Salida T1):\n",
    "\n",
    "* Esta formulación es de Cenicafé para las cuencas de los ríos Cauca y Magdalena en la zona Andina de Colombia.\n",
    "* Se divide por 86400 para realizar la conversión a [mm/s]"
   ]
  },
  {
   "cell_type": "code",
   "execution_count": 4,
   "metadata": {
    "ExecuteTime": {
     "end_time": "2020-10-27T16:45:51.838207Z",
     "start_time": "2020-10-27T16:45:51.824177Z"
    },
    "hidden": true
   },
   "outputs": [],
   "source": [
    "cu.GetGeo_Cell_Basics()\n",
    "\n",
    "Evp=4.658*np.exp(-0.0002*cu.CellHeight)/86400.0# en mm/s"
   ]
  },
  {
   "cell_type": "markdown",
   "metadata": {
    "ExecuteTime": {
     "end_time": "2020-10-27T16:46:31.258480Z",
     "start_time": "2020-10-27T16:46:31.254474Z"
    },
    "heading_collapsed": true,
    "hidden": true
   },
   "source": [
    "### Conductividad hidráulica del suelo residual Ks (Entrada T3 como infiltración):\n",
    "\n",
    "* Ks en [mm/h], luego se realiza la conversión"
   ]
  },
  {
   "cell_type": "code",
   "execution_count": 23,
   "metadata": {
    "ExecuteTime": {
     "end_time": "2020-10-27T17:00:19.763338Z",
     "start_time": "2020-10-27T17:00:19.689898Z"
    },
    "hidden": true
   },
   "outputs": [],
   "source": [
    "Ks, p,epsg = wmf.read_map_raster('/media/nicolas/Home/Jupyter/Alexa/flood_forecast/data/Folder_parametros/Ks.tif')\n",
    "Ks = cu.Transform_Map2Basin(Ks,p)\n",
    "\n",
    "Ks[Ks == -9999] = Ks[Ks>0].mean()\n",
    "Ks[Ks == 0] = Ks[Ks>Ks[Ks!=0].min()].min()\n",
    "Ks[Ks>32.4]=32.4\n",
    "Ks[Ks<=0.0]=Ks[Ks>0].min()"
   ]
  },
  {
   "cell_type": "markdown",
   "metadata": {
    "heading_collapsed": true,
    "hidden": true
   },
   "source": [
    "### Conductividad hidráulica del saprolito Kp (Entrada T4 como percolación):"
   ]
  },
  {
   "cell_type": "markdown",
   "metadata": {
    "hidden": true
   },
   "source": [
    "Se asume igual a:"
   ]
  },
  {
   "cell_type": "code",
   "execution_count": 24,
   "metadata": {
    "ExecuteTime": {
     "end_time": "2020-10-27T17:00:41.635249Z",
     "start_time": "2020-10-27T17:00:41.630489Z"
    },
    "hidden": true
   },
   "outputs": [],
   "source": [
    "Kp = np.copy(Ks/100.0)"
   ]
  },
  {
   "cell_type": "markdown",
   "metadata": {
    "heading_collapsed": true,
    "hidden": true
   },
   "source": [
    "## Almacenamientos máximos"
   ]
  },
  {
   "cell_type": "markdown",
   "metadata": {
    "heading_collapsed": true,
    "hidden": true
   },
   "source": [
    "### Máximo almacenamiento capilar (almacenamiento máximo e T1):\n",
    "\n",
    "* Hu en [mm]"
   ]
  },
  {
   "cell_type": "code",
   "execution_count": 25,
   "metadata": {
    "ExecuteTime": {
     "end_time": "2020-10-27T17:02:21.284569Z",
     "start_time": "2020-10-27T17:02:21.197756Z"
    },
    "hidden": true
   },
   "outputs": [],
   "source": [
    "Zcap,p,epsg = wmf.read_map_raster('/media/nicolas/Home/Jupyter/Alexa/flood_forecast/data/Folder_parametros/Hu.tif')\n",
    "Zcap = cu.Transform_Map2Basin(Zcap,p)\n",
    "Zcap[Zcap<0]=np.min(Zcap[Zcap>0])"
   ]
  },
  {
   "cell_type": "markdown",
   "metadata": {
    "hidden": true
   },
   "source": [
    "### Máximo almacenamiento gravitacional (almacenamiento máximo en T3):\n",
    "\n",
    "\n",
    "* Hg en [mm]"
   ]
  },
  {
   "cell_type": "code",
   "execution_count": 26,
   "metadata": {
    "ExecuteTime": {
     "end_time": "2020-10-27T17:06:03.069996Z",
     "start_time": "2020-10-27T17:06:02.672229Z"
    },
    "hidden": true
   },
   "outputs": [],
   "source": [
    "Zg,p,epsg = wmf.read_map_raster('/media/nicolas/Home/Jupyter/Alexa/flood_forecast/data/Folder_parametros/Hg.tif')\n",
    "Zg = cu.Transform_Map2Basin(Zg,p)\n",
    "Zg[Zg<=0]=np.min(Zg[Zg>0])"
   ]
  },
  {
   "cell_type": "markdown",
   "metadata": {
    "heading_collapsed": true,
    "hidden": true
   },
   "source": [
    "## Coeficientes de entrada requeridos para la simulación del transporte horizontal"
   ]
  },
  {
   "cell_type": "markdown",
   "metadata": {
    "heading_collapsed": true,
    "hidden": true
   },
   "source": [
    "### Coeficiente de Foster para el cálculo del fujo de escorrentía (T2)\n",
    "\n",
    "* Recordar que  \n",
    "\n",
    "$$\n",
    "V_{2}=\\frac{\\zeta A^{\\left(2 / 3 e_{1}\\right)} S^{0.5}}{n} \\text {  y el coeficiente de Foster será   } \\frac{\\zeta S^{0.5}}{n}\n",
    "$$\n",
    "\n",
    "* Para surcos (Foster y Lane, 1981) en (Vélez, 2001) proponen $\\zeta$=0.5 y $e_1$=0.64"
   ]
  },
  {
   "cell_type": "code",
   "execution_count": 29,
   "metadata": {
    "ExecuteTime": {
     "end_time": "2020-10-27T17:14:55.590392Z",
     "start_time": "2020-10-27T17:14:55.409660Z"
    },
    "hidden": true
   },
   "outputs": [],
   "source": [
    "Man, p,epsg = wmf.read_map_raster('/media/nicolas/Home/Jupyter/Alexa/flood_forecast/data/Folder_parametros/Manning.tif')\n",
    "Man = cu.Transform_Map2Basin(Man,p)\n",
    "Man[Man <= 0] = 0.01\n",
    "\n",
    "CoefRun = (0.5/Man) * cu.CellSlope**0.5\n",
    "CoefRun[CoefRun>15] = 15"
   ]
  },
  {
   "cell_type": "markdown",
   "metadata": {
    "heading_collapsed": true,
    "hidden": true
   },
   "source": [
    "### Coeficiente Ksh para el cálculo del flujo subsuperficial horizontal (T3)\n",
    "\n",
    "* Recordar que \n",
    "$$v = C_o A^{\\alpha}$$\n",
    "$$\n",
    "V_{3}=\\frac{K_{S} S A(t)^{b}}{(b+1) A_{g}^{b}}, \\text { el coeficiente $C_o$ que se ingresa es: } K_{s h}=\\frac{K_{S} S d x^{2}}{(b+1) H_{g}^{b}}\n",
    "$$\n",
    "\n",
    "* De acuerdo a los autores  𝑏=2  para cuencas de montaña con conducciones internas heterogeneas.\n",
    "* La unidades de la ecuación anterior deben llegar a ser de: $m/s$\n",
    "\n",
    "Unidades:\n",
    "\n",
    "- $ks$: $mm/hora$\n",
    "- $So$: Adimensional.\n",
    "- $\\Delta x$: $m$.\n",
    "- $H_g$: $mm$.\n",
    "- $A(t)$: $mm$.\n",
    "\n",
    "$A(t)$ sebe ser expresado en términos de volúmen, igualmente $H_g$, por lo que se usa el factor de conversión basado en el área de un elemento:\n",
    "\n",
    "- Factor de conversión $F_c = \\Delta x ^2 \\frac{1m}{1000mm}[m^3/mm]$\n",
    "\n",
    "- $ks$ pasa a unidades de $m/s$ al ser dividido por $3.6x10^6$.\n",
    "- $Hg$ pasa a $m^3$ al ser multiplicado por $F_c$.\n",
    "- $S_3$ pasa a $m^3$ al ser multiplicado por $F_c$.\n",
    "\n",
    "Con lo anterior se tiene que las unidades del coeficiente $C_o$ son: $s^{-1}m^{-3}$.  Las unidades de $A^{\\alpha}$ son $m^4$.  Con lo anterior se obtienen unidades de velocidad $m/s$. "
   ]
  },
  {
   "cell_type": "code",
   "execution_count": 34,
   "metadata": {
    "ExecuteTime": {
     "end_time": "2020-10-27T17:44:00.375095Z",
     "start_time": "2020-10-27T17:44:00.366489Z"
    },
    "hidden": true
   },
   "outputs": [],
   "source": [
    "Fc = (wmf.cu.dxp**2)/1000.\n",
    "\n",
    "CoefSub=((Ks/3.6e6)*cu.CellSlope*(wmf.cu.dxp**2.0))/(3*(Zg*Fc)**2)"
   ]
  },
  {
   "cell_type": "markdown",
   "metadata": {
    "hidden": true
   },
   "source": [
    "### Coeficiente para el cálculo del flujo en cauces:\n",
    "\n",
    "La velocidad en el cauce se deduce a partir de la onda cinematica geomorfológica (OCG) y relaciones de geometría hidráulica. Para esto, al modelo se le ingresan los mapas de áreas acumuladas y pendientes y este cácula los coeficientes así"
   ]
  },
  {
   "cell_type": "code",
   "execution_count": 36,
   "metadata": {
    "ExecuteTime": {
     "end_time": "2020-10-27T17:49:49.722479Z",
     "start_time": "2020-10-27T17:49:49.693240Z"
    },
    "hidden": true
   },
   "outputs": [],
   "source": [
    "area = cu.CellAcum * (wmf.cu.dxp**2)/1e6\n",
    "CoefOCG,ExpOCG = wmf.OCG_param(pend = cu.CellSlope, area = area)"
   ]
  },
  {
   "cell_type": "code",
   "execution_count": 41,
   "metadata": {
    "ExecuteTime": {
     "end_time": "2020-10-27T18:16:34.569327Z",
     "start_time": "2020-10-27T18:16:34.454358Z"
    },
    "hidden": true
   },
   "outputs": [],
   "source": [
    "CoefByTramo = np.zeros(cu.ncells)\n",
    "for i in range(1,cu.nhills):\n",
    "    pos = np.where((cu.hills_own == i) & (cu.CellCauce == 1))\n",
    "    CoefByTramo[pos] = np.median(CoefOCG[pos])"
   ]
  },
  {
   "cell_type": "markdown",
   "metadata": {
    "heading_collapsed": true
   },
   "source": [
    "# Configuración del modelo con parámetros calculados en 2"
   ]
  },
  {
   "cell_type": "markdown",
   "metadata": {
    "heading_collapsed": true,
    "hidden": true
   },
   "source": [
    "## Transporte vertical:\n",
    "\n",
    "Los parámetros de transporte vertical se nombran como [‘v_coef,’ parámetro, i], donde i indica el proceso al que se hace referencia así:\n",
    "[0: Tasa de evaporación, 1:Infiltración, 2:Percolación, 3:Pérdidas].\n",
    "\t\n",
    "Cada uno de ellos se debe ingresar en [mm/s]\n"
   ]
  },
  {
   "cell_type": "code",
   "execution_count": 37,
   "metadata": {
    "ExecuteTime": {
     "end_time": "2020-10-27T17:53:01.431175Z",
     "start_time": "2020-10-27T17:53:01.424533Z"
    },
    "hidden": true
   },
   "outputs": [],
   "source": [
    "cu.set_PhysicVariables('v_coef', Evp, 0)\n",
    "cu.set_PhysicVariables('v_coef', Ks/3600, 1)\n",
    "cu.set_PhysicVariables('v_coef', Kp/3600, 2)\n",
    "cu.set_PhysicVariables('v_coef', 0, 3)"
   ]
  },
  {
   "cell_type": "markdown",
   "metadata": {
    "heading_collapsed": true,
    "hidden": true
   },
   "source": [
    "## Almacenamientos:\n",
    "\n",
    "* Los almacenamientos capilar [0] y gravitacional [1] siempre se ingresan al modelo en [mm]\n",
    "* Además, se agrega el almacenamiento máximo en acuifero"
   ]
  },
  {
   "cell_type": "code",
   "execution_count": 38,
   "metadata": {
    "ExecuteTime": {
     "end_time": "2020-10-27T17:54:27.325599Z",
     "start_time": "2020-10-27T17:54:27.318270Z"
    },
    "hidden": true
   },
   "outputs": [],
   "source": [
    "cu.set_PhysicVariables('capilar', Zcap, 0)\n",
    "cu.set_PhysicVariables('gravit', Zg, 1)\n",
    "wmf.models.max_aquifer=wmf.models.max_gravita*10"
   ]
  },
  {
   "cell_type": "markdown",
   "metadata": {
    "heading_collapsed": true,
    "hidden": true
   },
   "source": [
    "## Transporte horizontal\n",
    "\n",
    "En primer lugar se especifica el tipo de velocidad a usar en cada nivel del modelo, así:"
   ]
  },
  {
   "cell_type": "code",
   "execution_count": 39,
   "metadata": {
    "ExecuteTime": {
     "end_time": "2020-10-27T17:59:12.731753Z",
     "start_time": "2020-10-27T17:59:12.726198Z"
    },
    "hidden": true
   },
   "outputs": [],
   "source": [
    "cu.set_Speed_type([2,2,1])"
   ]
  },
  {
   "cell_type": "markdown",
   "metadata": {
    "ExecuteTime": {
     "end_time": "2020-10-27T17:59:40.737922Z",
     "start_time": "2020-10-27T17:59:40.725609Z"
    },
    "hidden": true
   },
   "source": [
    "Cada numero indica un tanque diferente [superficial, subsuperficial,subterraneo]\n",
    "* 1: velocidad lineal, en este caso no se debe indicar h_exp\n",
    "* 2: velocidad onda cinemática, se debe indicar h_exp\n",
    "\n",
    "Cuando se usa la opción por OCG las velocidades son calculadas así:\n",
    "$$v = h_{coef}(A^{h_{exp}})$$\n",
    "\n",
    "\n",
    "Los parámetros del transporte horizontal se dividen en dos, coeficientes y exponentes y se nombran como h_coef y h_exp respectivamente. Además también cuentan con un número indicativo para cada proceso.\n",
    "[0: Flujo de escorrentía, 1:Flujo subsuperficial, 2: Flujo subterráneo, 3: Flujo en cauces]\n"
   ]
  },
  {
   "cell_type": "code",
   "execution_count": 43,
   "metadata": {
    "ExecuteTime": {
     "end_time": "2020-10-27T18:33:05.494641Z",
     "start_time": "2020-10-27T18:33:05.479058Z"
    },
    "hidden": true
   },
   "outputs": [],
   "source": [
    "cu.set_PhysicVariables('h_coef',CoefRun, 0)\n",
    "cu.set_PhysicVariables('h_exp', 0.64 , 0)\n",
    "\n",
    "cu.set_PhysicVariables('h_coef',CoefSub, 1)\n",
    "cu.set_PhysicVariables('h_exp',2.0, 1)\n",
    "\n",
    "cu.set_PhysicVariables('h_coef', Kp/3600, 2)\n",
    "\n",
    "cu.set_PhysicVariables('h_coef', CoefByTramo, 3, mask=cu.CellCauce)\n",
    "cu.set_PhysicVariables('h_exp', ExpOCG, 3, mask=cu.CellCauce)"
   ]
  },
  {
   "cell_type": "markdown",
   "metadata": {
    "hidden": true
   },
   "source": [
    "* El exponente en el flujo de escorrentía igual a 0.64 se propone por (Foster y Lane, 1981) para surcos, "
   ]
  },
  {
   "cell_type": "markdown",
   "metadata": {
    "heading_collapsed": true
   },
   "source": [
    "# Guardar archivo de configuración para modelo hidrológico unciamente\n",
    "\n",
    "Finalmente se da la opción de guardar el archivo de configuración de la siguiente forma:"
   ]
  },
  {
   "cell_type": "code",
   "execution_count": 44,
   "metadata": {
    "ExecuteTime": {
     "end_time": "2020-10-27T19:05:06.658503Z",
     "start_time": "2020-10-27T19:05:06.432256Z"
    },
    "hidden": true
   },
   "outputs": [],
   "source": [
    "cu.Save_SimuBasin('/media/nicolas/Home/Jupyter/Stephany/ModeloHidrologico/Porce/Porce15min_150m_SoloHidrologico.nc')"
   ]
  },
  {
   "cell_type": "markdown",
   "metadata": {
    "heading_collapsed": true
   },
   "source": [
    "# Sedimentos\n",
    "\n",
    "Para incluir la simulación de sedimentos dentro del archivo de configuración es necesario tener los siguientes insumos:\n",
    "\n",
    "* Mapa del factor K (erosividad del suelo) \n",
    "* Mapa del factor C (cobertura del suelo)\n",
    "* Mapa del factor P (practicas de conservación del suelo)\n",
    "* Mapa de porcentaje de arcillas, limos y arenas"
   ]
  },
  {
   "cell_type": "code",
   "execution_count": 45,
   "metadata": {
    "ExecuteTime": {
     "end_time": "2020-10-27T19:23:21.462567Z",
     "start_time": "2020-10-27T19:23:20.043572Z"
    },
    "hidden": true
   },
   "outputs": [],
   "source": [
    "## K de la RUSLE\n",
    "k_rusle, prop, epsg = wmf.read_map_raster('/media/nicolas/Home/Jupyter/sedimentos/porce/datos/raster/k_rusle_150m.tif', dxp = 150, noDataP = -9999)\n",
    "k_rusle = cu.Transform_Map2Basin(k_rusle, prop)\n",
    "k_rusle[k_rusle<0]=0\n",
    "\n",
    "## C de la RUSLE\n",
    "c_rusle, prop, epsg = wmf.read_map_raster('/media/nicolas/Home/Jupyter/sedimentos/porce/datos/raster/c_rusle_150m.tif', dxp = 150, noDataP = -9999)\n",
    "c_rusle = cu.Transform_Map2Basin(c_rusle, prop)\n",
    "\n",
    "## Porcentaje de arenas limos y arcillas \n",
    "Ar, prop, epsg = wmf.read_map_raster('/media/nicolas/Home/Jupyter/sedimentos/porce/datos/raster/arenas_150m.tif', dxp = 150, noDataP = -9999)\n",
    "Ar = cu.Transform_Map2Basin(Ar, prop)\n",
    "Ar[Ar<0]=0\n",
    "Ac, prop, epsg = wmf.read_map_raster('/media/nicolas/Home/Jupyter/sedimentos/porce/datos/raster/arcillas_150m.tif', dxp = 150, noDataP = -9999)\n",
    "Ac = cu.Transform_Map2Basin(Ac, prop)\n",
    "Ac[Ac<0]=0\n",
    "Li, prop, epsg = wmf.read_map_raster('/media/nicolas/Home/Jupyter/sedimentos/porce/datos/raster/limos_150m.tif', dxp = 150, noDataP = -9999)\n",
    "Li = cu.Transform_Map2Basin(Li, prop)\n",
    "Li[Li<0]=0\n",
    "Parliac = np.vstack([Ar, Li, Ac])*100.\n",
    "\n",
    "\n",
    "## Ingreso Parámetros al modelo\n",
    "cu.set_sediments(Parliac, 'PArLiAc')\n",
    "cu.set_sediments(k_rusle, 'Krus')\n",
    "cu.set_sediments(c_rusle, 'Crus')\n",
    "cu.set_sediments(1., 'Prus')"
   ]
  },
  {
   "cell_type": "code",
   "execution_count": 48,
   "metadata": {
    "ExecuteTime": {
     "end_time": "2020-10-27T19:24:06.043102Z",
     "start_time": "2020-10-27T19:24:05.826890Z"
    },
    "hidden": true
   },
   "outputs": [],
   "source": [
    "cu.Save_SimuBasin('/media/nicolas/Home/Jupyter/Stephany/ModeloHidrologico/Porce/Porce15min_150m_Sedimentos.nc')"
   ]
  }
 ],
 "metadata": {
  "kernelspec": {
   "display_name": "Python 3",
   "language": "python",
   "name": "python3"
  },
  "language_info": {
   "codemirror_mode": {
    "name": "ipython",
    "version": 3
   },
   "file_extension": ".py",
   "mimetype": "text/x-python",
   "name": "python",
   "nbconvert_exporter": "python",
   "pygments_lexer": "ipython3",
   "version": "3.5.2"
  },
  "toc": {
   "base_numbering": 1,
   "nav_menu": {},
   "number_sections": true,
   "sideBar": true,
   "skip_h1_title": false,
   "title_cell": "Table of Contents",
   "title_sidebar": "Contents",
   "toc_cell": false,
   "toc_position": {},
   "toc_section_display": true,
   "toc_window_display": true
  },
  "varInspector": {
   "cols": {
    "lenName": 16,
    "lenType": 16,
    "lenVar": 40
   },
   "kernels_config": {
    "python": {
     "delete_cmd_postfix": "",
     "delete_cmd_prefix": "del ",
     "library": "var_list.py",
     "varRefreshCmd": "print(var_dic_list())"
    },
    "r": {
     "delete_cmd_postfix": ") ",
     "delete_cmd_prefix": "rm(",
     "library": "var_list.r",
     "varRefreshCmd": "cat(var_dic_list()) "
    }
   },
   "types_to_exclude": [
    "module",
    "function",
    "builtin_function_or_method",
    "instance",
    "_Feature"
   ],
   "window_display": false
  }
 },
 "nbformat": 4,
 "nbformat_minor": 2
}
